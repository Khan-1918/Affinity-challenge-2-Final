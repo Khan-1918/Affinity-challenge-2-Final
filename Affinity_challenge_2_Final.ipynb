{
  "nbformat": 4,
  "nbformat_minor": 0,
  "metadata": {
    "colab": {
      "provenance": []
    },
    "kernelspec": {
      "name": "python3",
      "display_name": "Python 3"
    },
    "language_info": {
      "name": "python"
    }
  },
  "cells": [
    {
      "cell_type": "code",
      "execution_count": 1,
      "metadata": {
        "colab": {
          "base_uri": "https://localhost:8080/"
        },
        "id": "FQPociG0nESf",
        "outputId": "e186f9cd-08d2-40fd-c1b0-569a49703ae2"
      },
      "outputs": [
        {
          "output_type": "stream",
          "name": "stdout",
          "text": [
            "Mounted at /content/drive\n"
          ]
        }
      ],
      "source": [
        "from google.colab import drive\n",
        "drive.mount('/content/drive')"
      ]
    },
    {
      "cell_type": "code",
      "source": [
        "pip install pandas scikit-learn"
      ],
      "metadata": {
        "colab": {
          "base_uri": "https://localhost:8080/"
        },
        "id": "S3X9Gf8Ko45w",
        "outputId": "08802c81-530a-4f81-aab4-9dd064204740"
      },
      "execution_count": 2,
      "outputs": [
        {
          "output_type": "stream",
          "name": "stdout",
          "text": [
            "Requirement already satisfied: pandas in /usr/local/lib/python3.10/dist-packages (2.2.2)\n",
            "Requirement already satisfied: scikit-learn in /usr/local/lib/python3.10/dist-packages (1.5.2)\n",
            "Requirement already satisfied: numpy>=1.22.4 in /usr/local/lib/python3.10/dist-packages (from pandas) (1.26.4)\n",
            "Requirement already satisfied: python-dateutil>=2.8.2 in /usr/local/lib/python3.10/dist-packages (from pandas) (2.8.2)\n",
            "Requirement already satisfied: pytz>=2020.1 in /usr/local/lib/python3.10/dist-packages (from pandas) (2024.2)\n",
            "Requirement already satisfied: tzdata>=2022.7 in /usr/local/lib/python3.10/dist-packages (from pandas) (2024.2)\n",
            "Requirement already satisfied: scipy>=1.6.0 in /usr/local/lib/python3.10/dist-packages (from scikit-learn) (1.13.1)\n",
            "Requirement already satisfied: joblib>=1.2.0 in /usr/local/lib/python3.10/dist-packages (from scikit-learn) (1.4.2)\n",
            "Requirement already satisfied: threadpoolctl>=3.1.0 in /usr/local/lib/python3.10/dist-packages (from scikit-learn) (3.5.0)\n",
            "Requirement already satisfied: six>=1.5 in /usr/local/lib/python3.10/dist-packages (from python-dateutil>=2.8.2->pandas) (1.17.0)\n"
          ]
        }
      ]
    },
    {
      "cell_type": "code",
      "source": [
        "import pandas as pd\n",
        "from sklearn.ensemble import RandomForestRegressor\n",
        "from sklearn.compose import ColumnTransformer\n",
        "from sklearn.preprocessing import OneHotEncoder\n",
        "from sklearn.pipeline import Pipeline\n",
        "\n",
        "# Load the datasets\n",
        "campaign_data = pd.read_csv('/content/drive/MyDrive/Affinity task 2/campaign_performance.csv')\n",
        "submission_form = pd.read_csv('/content/drive/MyDrive/Affinity task 2/c2_submission_form.csv')\n",
        "\n",
        "# Specify columns for modeling\n",
        "categorical_cols = ['ad_file_type', 'ad_size', 'goal_type', 'media_type', 'campaign_type']\n",
        "numerical_cols = ['goal_value', 'max_bid', 'plan_impressions', 'daily_impression_cap', 'daily_estimated_budget']\n",
        "\n",
        "# Prepare training data\n",
        "X_train = campaign_data[categorical_cols + numerical_cols]\n",
        "y_train = campaign_data['ctr']\n",
        "\n",
        "# Prepare the test data\n",
        "X_test = submission_form[categorical_cols + numerical_cols]\n",
        "\n",
        "# Define preprocessing for categorical data and model pipeline\n",
        "preprocessor = ColumnTransformer(\n",
        "    transformers=[\n",
        "        ('cat', OneHotEncoder(handle_unknown='ignore'), categorical_cols),\n",
        "    ],\n",
        "    remainder='passthrough'\n",
        ")\n",
        "\n",
        "# Define the model pipeline\n",
        "model = Pipeline(steps=[\n",
        "    ('preprocessor', preprocessor),\n",
        "    ('regressor', RandomForestRegressor(n_estimators=100, random_state=42))\n",
        "])\n",
        "\n",
        "# Train the model\n",
        "model.fit(X_train, y_train)\n",
        "\n",
        "# Predict CTR for the test dataset\n",
        "submission_form['predicted_ctr'] = model.predict(X_test)\n",
        "\n",
        "# Save the results to a new CSV file\n",
        "submission_form.to_csv('c2_submission_form_with_predictions.csv', index=False)\n",
        "\n",
        "print(\"CTR predictions saved to 'c2_submission_form_with_predictions.csv'\")\n"
      ],
      "metadata": {
        "colab": {
          "base_uri": "https://localhost:8080/"
        },
        "id": "zRfMegwro7pv",
        "outputId": "be63d13b-123e-410e-9ab7-eba729832879"
      },
      "execution_count": 3,
      "outputs": [
        {
          "output_type": "stream",
          "name": "stdout",
          "text": [
            "CTR predictions saved to 'c2_submission_form_with_predictions.csv'\n"
          ]
        }
      ]
    },
    {
      "cell_type": "code",
      "source": [
        "import pandas as pd\n",
        "from sklearn.ensemble import RandomForestRegressor\n",
        "from sklearn.compose import ColumnTransformer\n",
        "from sklearn.preprocessing import OneHotEncoder\n",
        "from sklearn.pipeline import Pipeline\n",
        "from sklearn.model_selection import cross_val_predict\n",
        "from sklearn.metrics import r2_score, mean_squared_error\n",
        "\n",
        "# Load the datasets\n",
        "campaign_data = pd.read_csv('/content/drive/MyDrive/Affinity task 2/campaign_performance.csv')\n",
        "submission_form = pd.read_csv('/content/drive/MyDrive/Affinity task 2/c2_submission_form.csv')\n",
        "\n",
        "# Specify columns for modeling\n",
        "categorical_cols = ['ad_file_type', 'ad_size', 'goal_type', 'media_type', 'campaign_type']\n",
        "numerical_cols = ['goal_value', 'max_bid', 'plan_impressions', 'daily_impression_cap', 'daily_estimated_budget']\n",
        "\n",
        "# Prepare training data\n",
        "X_train = campaign_data[categorical_cols + numerical_cols]\n",
        "y_train = campaign_data['ctr']\n",
        "\n",
        "# Define preprocessing for categorical data and model pipeline\n",
        "preprocessor = ColumnTransformer(\n",
        "    transformers=[\n",
        "        ('cat', OneHotEncoder(handle_unknown='ignore'), categorical_cols),\n",
        "    ],\n",
        "    remainder='passthrough'\n",
        ")\n",
        "\n",
        "# Define the model pipeline\n",
        "model = Pipeline(steps=[\n",
        "    ('preprocessor', preprocessor),\n",
        "    ('regressor', RandomForestRegressor(n_estimators=100, random_state=42))\n",
        "])\n",
        "\n",
        "# Train the model on the training data\n",
        "model.fit(X_train, y_train)\n",
        "\n",
        "# Predict CTR for training data (cross-validation predictions)\n",
        "y_train_pred = cross_val_predict(model, X_train, y_train, cv=5)\n",
        "\n",
        "# Compute R² score on training data\n",
        "r2 = r2_score(y_train, y_train_pred)\n",
        "print(f\"R² Score on Training Data: {r2:.4f}\")\n",
        "\n",
        "# Predict CTR for the test dataset\n",
        "X_test = submission_form[categorical_cols + numerical_cols]\n",
        "submission_form['predicted_ctr'] = model.predict(X_test)\n",
        "\n",
        "# Save predictions to a new CSV file\n",
        "submission_form.to_csv('c2_submission_form_with_predictionsr2.csv', index=False)\n",
        "print(\"Predicted CTRs saved to 'c2_submission_form_with_predictionsr2.csv'.\")\n"
      ],
      "metadata": {
        "colab": {
          "base_uri": "https://localhost:8080/"
        },
        "id": "Kl_omcIa6wB9",
        "outputId": "96f4839e-40e5-4476-ae6d-8822b4109a6a"
      },
      "execution_count": 8,
      "outputs": [
        {
          "output_type": "stream",
          "name": "stdout",
          "text": [
            "R² Score on Training Data: 0.8183\n",
            "Predicted CTRs saved to 'c2_submission_form_with_predictionsr2.csv'.\n"
          ]
        }
      ]
    }
  ]
}